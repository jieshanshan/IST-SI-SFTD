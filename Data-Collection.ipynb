{
 "cells": [
  {
   "cell_type": "markdown",
   "metadata": {},
   "source": [
    "# Data Collection\n",
    "\n",
    "This notebook guides you through the procedure to collect all the data for the study reported in the paper:\n",
    "\n",
    "**An Empirical Study on Self-Fixed Technical Debt**\n",
    "\n",
    "The procedure is devided into the following steps:\n",
    "1. [Configure requirements and environment](#config)\n",
    "2. [Collect commits](#commits)\n",
    "3. [Extract issues](#issues)"
   ]
  },
  {
   "cell_type": "markdown",
   "metadata": {},
   "source": [
    "<a id=\"config\"></a>\n",
    "## 1. Configure requirements and environment"
   ]
  },
  {
   "cell_type": "code",
   "execution_count": null,
   "metadata": {},
   "outputs": [],
   "source": [
    "# Install necessary packages\n",
    "import sys\n",
    "!conda install --yes --prefix {sys.prefix} git gitpython unzip"
   ]
  },
  {
   "cell_type": "code",
   "execution_count": null,
   "metadata": {},
   "outputs": [],
   "source": [
    "# Import necessary packages\n",
    "import git_utils\n",
    "import os\n",
    "import subprocess\n",
    "import sys"
   ]
  },
  {
   "cell_type": "code",
   "execution_count": null,
   "metadata": {},
   "outputs": [],
   "source": [
    "# Projects configuraton\n",
    "\n",
    "gh_user = 'apache'\n",
    "\n",
    "gh_projects = [ 'allura', 'bloodhound', \n",
    "             'cassandra-dtest', 'chemistry-cmislib',  \n",
    "             'cloudstack-ec2stack', \n",
    "             'cloudstack-gcestack', \n",
    "             'fluo-muchos', 'airflow', \n",
    "             'openwhisk-composer-python', \n",
    "             'openwhisk-package-kafka', \n",
    "             'kibble', 'dubbo-python\n",
    "             'libcloud', 'predictionio-sdk-python', \n",
    "             'qpid-dispatch', 'qpid-interop-test', 'qpid-python', 'steve',\n",
    "             'trafficserver-qa', 'rocketmq-client-python' ]\n",
    "\n",
    "# Paths download repositories and checking out the commits\n",
    "# You do not have to change or create them\n",
    "repos_path = '/home/sonar/study.d/repositories'\n",
    "repos_path = '/home/sonar/study.d/to_analyze'"
   ]
  },
  {
   "cell_type": "markdown",
   "metadata": {},
   "source": [
    "<a id=\"commits\"></a>\n",
    "## 2. Collect commits"
   ]
  },
  {
   "cell_type": "code",
   "execution_count": null,
   "metadata": {},
   "outputs": [],
   "source": [
    "# First, collect the repositories\n",
    "for p in gh_rojects:\n",
    "    repo_path = os.path.join(repos_path, gh_user, p)\n",
    "    git_utils.download_repo(gh_user, p, repo_path)"
   ]
  },
  {
   "cell_type": "code",
   "execution_count": null,
   "metadata": {},
   "outputs": [],
   "source": [
    "# Second, collect the commits\n",
    "for p in gh_projects:\n",
    "    repo_path = os.path.join(repos_path, gh_user, p)\n",
    "    git_utils.download_commits(gh_user, p, repo_path, 'master', repos_path)"
   ]
  },
  {
   "cell_type": "markdown",
   "metadata": {},
   "source": [
    "<a id=\"issues\"></a>\n",
    "## 3. Extract issues"
   ]
  },
  {
   "cell_type": "code",
   "execution_count": null,
   "metadata": {},
   "outputs": [],
   "source": [
    "# Submit commits to SonarQube\n",
    "for p in gh_rojects:\n",
    "    script_file = os.path.join(repos_path, gh_user, p, f'{p}.sh')\n",
    "    subprocess.call([script_file])"
   ]
  },
  {
   "cell_type": "markdown",
   "metadata": {},
   "source": [
    "## THE END"
   ]
  }
 ],
 "metadata": {
  "kernelspec": {
   "display_name": "Python 3",
   "language": "python",
   "name": "python3"
  },
  "language_info": {
   "codemirror_mode": {
    "name": "ipython",
    "version": 3
   },
   "file_extension": ".py",
   "mimetype": "text/x-python",
   "name": "python",
   "nbconvert_exporter": "python",
   "pygments_lexer": "ipython3",
   "version": "3.7.1"
  }
 },
 "nbformat": 4,
 "nbformat_minor": 2
}
